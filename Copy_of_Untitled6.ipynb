{
  "nbformat": 4,
  "nbformat_minor": 0,
  "metadata": {
    "colab": {
      "name": "Copy of Untitled6.ipynb",
      "provenance": []
    },
    "kernelspec": {
      "display_name": "Python 3",
      "language": "python",
      "name": "python3"
    },
    "language_info": {
      "codemirror_mode": {
        "name": "ipython",
        "version": 3
      },
      "file_extension": ".py",
      "mimetype": "text/x-python",
      "name": "python",
      "nbconvert_exporter": "python",
      "pygments_lexer": "ipython3",
      "version": "3.8.5"
    }
  },
  "cells": [
    {
      "cell_type": "code",
      "metadata": {
        "colab": {
          "base_uri": "https://localhost:8080/"
        },
        "id": "nbI6UhHFJQtA",
        "outputId": "2fb7c96c-e59c-49d2-9941-ea77f4d02a3d"
      },
      "source": [
        "import numpy as np\n",
        "import pandas as pd\n",
        "import seaborn as sns\n",
        "\n",
        "df = pd.read_csv('/content/movies_metadata.csv')\n",
        "df.loc[df['release_date'] == 'TV Movie 2019', 'release_date'] = '2019'\n",
        "df['release_date'] = pd.to_datetime(df['release_date'], infer_datetime_format=True, errors='coerce')\n",
        "df.drop(columns='adult', inplace=True)\n",
        "df['year'] = df['release_date'].dt.year\n",
        "df['year'] = df['year'].astype(float)\n",
        "df_fresh = pd.read_csv('/content/IMDb movies.csv', low_memory=False)\n",
        "df_fresh.loc[df_fresh['year'] == 'TV Movie 2019', 'year'] = 2019\n",
        "df_fresh['year'] = df_fresh['year'].astype(float)\n",
        "a = df.loc[df['revenue'].isnull()].index\n",
        "df.drop(labels=a, inplace=True)\n",
        "df.reset_index(inplace=True)\n",
        "df.drop_duplicates(inplace=True)"
      ],
      "execution_count": 2,
      "outputs": [
        {
          "output_type": "stream",
          "text": [
            "/usr/local/lib/python3.7/dist-packages/IPython/core/interactiveshell.py:2718: DtypeWarning: Columns (10) have mixed types.Specify dtype option on import or set low_memory=False.\n",
            "  interactivity=interactivity, compiler=compiler, result=result)\n"
          ],
          "name": "stderr"
        }
      ]
    },
    {
      "cell_type": "code",
      "metadata": {
        "id": "uFtnSFlhiGZ8"
      },
      "source": [
        "alpha = df.loc[df['revenue'] == 0, 'title']\n",
        "\n",
        "for x in alpha:\n",
        "  b = df_fresh.loc[df_fresh['title'] == x, 'worlwide_gross_income']\n",
        "  c = df_fresh.loc[df_fresh['title'] == x, 'year']\n",
        "  for y, z in enumerate(b):\n",
        "    df.loc[(df['original_title']==x) & (df['year'] ==c.iloc[y]), 'revenue'] = b.iloc[y]"
      ],
      "execution_count": 3,
      "outputs": []
    },
    {
      "cell_type": "code",
      "metadata": {
        "id": "s_rczYdIo14S"
      },
      "source": [
        "alpha = df.loc[df['revenue'] == 0].index\n",
        "df.drop(labels=alpha, inplace=True)"
      ],
      "execution_count": 4,
      "outputs": []
    },
    {
      "cell_type": "code",
      "metadata": {
        "id": "FBWo4PPufWHu"
      },
      "source": [
        "df_act_dir = pd.read_csv('/content/IMDb movies.csv', low_memory=False)\n",
        "\n",
        "df_act_dir.drop(columns = ['imdb_title_id', 'date_published', 'genre', 'country', 'language', \n",
        "                           'description', 'avg_vote', 'votes', 'budget', 'usa_gross_income', 'worlwide_gross_income', \n",
        "                           'metascore', 'reviews_from_users', 'reviews_from_critics', 'original_title'], inplace=True)\n",
        "df = pd.merge(df, df_act_dir, how='inner', on='title')"
      ],
      "execution_count": 5,
      "outputs": []
    },
    {
      "cell_type": "code",
      "metadata": {
        "id": "KsD8k44NJQtD"
      },
      "source": [
        "features_to_drop = ['belongs_to_collection', 'homepage', 'imdb_id', 'overview', \n",
        "                    'tagline', 'title', 'poster_path', 'original_title', 'production_companies', 'status']\n",
        "df_x = df.drop(columns = features_to_drop)"
      ],
      "execution_count": 6,
      "outputs": []
    },
    {
      "cell_type": "code",
      "metadata": {
        "id": "lwFQx7DfJQtE"
      },
      "source": [
        "ak = []\n",
        "for x in df_x['production_countries']:\n",
        "    x = x.split(':')\n",
        "    if len(x)<=1:\n",
        "        ak.append('unknown')\n",
        "    else:\n",
        "        x = x[-1].strip('}]')\n",
        "        x = x.strip()\n",
        "        ak.append(x)\n",
        "\n",
        "df_x['production_countries'] = ak"
      ],
      "execution_count": 7,
      "outputs": []
    },
    {
      "cell_type": "code",
      "metadata": {
        "id": "hRoL3bTcJQtE"
      },
      "source": [
        "ab = []\n",
        "ad = []\n",
        "for x in range(len(df['genres'])):\n",
        "    ac = []\n",
        "    ae = []\n",
        "    y = df['genres'][x]\n",
        "    g = y.split(':')\n",
        "    for z in range(len(g)):\n",
        "        if z%2 == 1:\n",
        "            h = g[z].split()\n",
        "            h = h[0].strip(',')\n",
        "            ac.append(h)\n",
        "    ab.append(ac)\n",
        "\n",
        "            \n",
        "df_x['genres'] = ab   "
      ],
      "execution_count": 8,
      "outputs": []
    },
    {
      "cell_type": "code",
      "metadata": {
        "id": "ebHPZzvFJQtH"
      },
      "source": [
        "ab = []\n",
        "for x in df_x['genres']:\n",
        "    if len(x) == 0:\n",
        "        ab.append(0)\n",
        "    else:\n",
        "        for y in range(len(x)):\n",
        "            if y ==0:\n",
        "                g = x[y]\n",
        "            else:\n",
        "                g = g + x[y]\n",
        "        ab.append(g)\n",
        "\n",
        "df_x['genres'] = ab      "
      ],
      "execution_count": 9,
      "outputs": []
    },
    {
      "cell_type": "code",
      "metadata": {
        "id": "6VIK0ua7JQtI"
      },
      "source": [
        "def encoder(n, d):\n",
        "    \n",
        "    h = n.copy()\n",
        "    aliup1 = h[d].value_counts()\n",
        "    mal = []\n",
        "    ifi = []\n",
        "    for z in aliup1.index:\n",
        "        if aliup1.loc[z] < 30:\n",
        "          h.loc[h[d] == z, d] = 'other'\n",
        "    aliup = h[d].value_counts().index\n",
        "    for z in range(len(aliup)):\n",
        "        mal.append(z + 1)\n",
        "    aliup = pd.DataFrame(aliup)\n",
        "    aliup['enc'] = mal\n",
        "    for x in aliup[0]:\n",
        "        b = aliup.loc[aliup[0]==x, 'enc']\n",
        "        b = b.iloc[0]\n",
        "        h.loc[h[d] == x, d] = b\n",
        "    return (h[d])"
      ],
      "execution_count": 10,
      "outputs": []
    },
    {
      "cell_type": "code",
      "metadata": {
        "id": "Le_cztorF70t"
      },
      "source": [
        "a = df_x.loc[df['revenue'].isnull()].index\n",
        "df_x.drop(labels=a, inplace=True)\n",
        "df_x.drop(columns=['year_x', 'year_y'], inplace=True)"
      ],
      "execution_count": 11,
      "outputs": []
    },
    {
      "cell_type": "code",
      "metadata": {
        "id": "KCbnw5X7GHHf"
      },
      "source": [
        "ab = []\n",
        "df_x['revenue'] = df_x['revenue'].astype(str)\n",
        "for x in df_x['revenue']:\n",
        "  x = x.strip('$')\n",
        "  x = x.strip('INR')\n",
        "  ab.append(x)\n",
        "\n",
        "df_x['revenue'] = ab\n",
        "df_x['revenue'] = df_x['revenue'].astype(float)\n",
        "\n",
        "df_x['release_date'] = pd.to_datetime(df_x['release_date'], infer_datetime_format=True)\n",
        "df_x['year'] = df_x['release_date'].dt.year\n",
        "df_x['month'] = df_x['release_date'].dt.month\n",
        "df_x['day'] = df_x['release_date'].dt.day\n",
        "df_x.drop(columns='release_date', inplace=True)"
      ],
      "execution_count": 12,
      "outputs": []
    },
    {
      "cell_type": "code",
      "metadata": {
        "id": "Ec9rNGVGJQtI"
      },
      "source": [
        "df_x['original_language'] = encoder(df_x, 'original_language')\n",
        "df_x['video'] = encoder(df_x, 'video')\n",
        "df_x['genres'] = encoder(df_x, 'genres')\n",
        "df_x['production_countries'] = encoder(df_x, 'production_countries')\n",
        "df_x['spoken_languages'] = encoder(df_x, 'spoken_languages')\n",
        "#df_x['director'] = encoder(df_x, 'director')\n",
        "df_x['production_company'] = encoder(df_x, 'production_company')\n",
        "#df_x['writer'] = encoder(df_x, 'writer')\n",
        "#df_x['actors'] = encoder(df_x, 'actors')"
      ],
      "execution_count": 13,
      "outputs": []
    },
    {
      "cell_type": "code",
      "metadata": {
        "id": "wmeY0erHoO6h"
      },
      "source": [
        "top_1000 = pd.read_csv('/content/Top 1000 Actors and Actresses.csv', encoding='latin-1')"
      ],
      "execution_count": 14,
      "outputs": []
    },
    {
      "cell_type": "code",
      "metadata": {
        "id": "bx-5Qqy47ZY-"
      },
      "source": [
        "abb = []\n",
        "for x in top_1000['Name']:\n",
        "  abb.append(x)"
      ],
      "execution_count": 15,
      "outputs": []
    },
    {
      "cell_type": "code",
      "metadata": {
        "id": "UqAhjnXkpKq8"
      },
      "source": [
        "df_x.loc[df_x['actors'].isnull(), 'actors'] = 'none'\n",
        "\n",
        "ab = []\n",
        "\n",
        "for x in df_x['actors']:\n",
        "  ac = []\n",
        "  x = x.split(',')\n",
        "  for y in x:\n",
        "    y = y.strip()\n",
        "    if y in abb:\n",
        "      ac.append(1)\n",
        "  b = np.sum(ac)\n",
        "  ab.append(b)"
      ],
      "execution_count": 16,
      "outputs": []
    },
    {
      "cell_type": "code",
      "metadata": {
        "id": "BhR-N9KA-EWE"
      },
      "source": [
        "df_x['actors'] = ab"
      ],
      "execution_count": 17,
      "outputs": []
    },
    {
      "cell_type": "code",
      "metadata": {
        "id": "jkLqE-yJ-3WS"
      },
      "source": [
        "top_dir = pd.read_csv('/content/1000 the Best Directors.csv', encoding='latin-1')"
      ],
      "execution_count": 18,
      "outputs": []
    },
    {
      "cell_type": "code",
      "metadata": {
        "id": "G-On7VFG_ziX"
      },
      "source": [
        "top_dir.columns\n",
        "abb = []\n",
        "for x in top_dir['Name']:\n",
        "  abb.append(x)"
      ],
      "execution_count": 19,
      "outputs": []
    },
    {
      "cell_type": "code",
      "metadata": {
        "id": "X4V6hrDz_6ml"
      },
      "source": [
        "df_x['director'] = df_x['director'].astype(str)\n",
        "ab = []\n",
        "for x in df_x['director']:\n",
        "  ac = []\n",
        "  x = x.split(',')\n",
        "  for y in x:\n",
        "    y = y.strip()\n",
        "    if y in abb:\n",
        "      ac.append(1)\n",
        "  b = np.sum(ac)\n",
        "  ab.append(b)"
      ],
      "execution_count": 20,
      "outputs": []
    },
    {
      "cell_type": "code",
      "metadata": {
        "id": "2sHZ0IVS-oIr"
      },
      "source": [
        "df_x['director'] = ab"
      ],
      "execution_count": 21,
      "outputs": []
    },
    {
      "cell_type": "code",
      "metadata": {
        "id": "xBZ1_DkwA1uR"
      },
      "source": [
        "df_x = df_x.drop(columns='writer')"
      ],
      "execution_count": 22,
      "outputs": []
    },
    {
      "cell_type": "code",
      "metadata": {
        "id": "NrC_pZw7JQtJ"
      },
      "source": [
        "from sklearn.model_selection import train_test_split\n",
        "from sklearn.metrics import r2_score\n",
        "from sklearn.metrics import mean_absolute_error"
      ],
      "execution_count": 23,
      "outputs": []
    },
    {
      "cell_type": "code",
      "metadata": {
        "id": "V9TfRWh6rSvW"
      },
      "source": [
        "df_x.drop(columns=['vote_average', 'vote_count'], inplace=True)"
      ],
      "execution_count": null,
      "outputs": []
    },
    {
      "cell_type": "code",
      "metadata": {
        "id": "zQdLpdSNqsSs"
      },
      "source": [
        "X = df_x.drop(columns='revenue')\n",
        "y = df_x['revenue']"
      ],
      "execution_count": 118,
      "outputs": []
    },
    {
      "cell_type": "code",
      "metadata": {
        "id": "BACdx-_VJQtJ"
      },
      "source": [
        "xtrain, X_test, ytrain, y_test = train_test_split(X, y, test_size = .2, random_state=42)\n",
        "X_train, X_val, y_train, y_val = train_test_split(xtrain, ytrain, test_size = .2, random_state=42)"
      ],
      "execution_count": 119,
      "outputs": []
    },
    {
      "cell_type": "code",
      "metadata": {
        "id": "o7KjbO0XJQtJ"
      },
      "source": [
        "baseline = np.mean(y_train)\n",
        "baseline_train = [baseline for x in range(len(y_train))]\n",
        "baseline_train = np.array(baseline_train)\n",
        "baseline_acc = mean_absolute_error(y_train, baseline_train)"
      ],
      "execution_count": 120,
      "outputs": []
    },
    {
      "cell_type": "code",
      "metadata": {
        "colab": {
          "base_uri": "https://localhost:8080/"
        },
        "id": "a8PtZVCpJQtK",
        "outputId": "cce15dba-c967-4747-9f10-f7f2ff113a1e"
      },
      "source": [
        "baseline_acc"
      ],
      "execution_count": 121,
      "outputs": [
        {
          "output_type": "execute_result",
          "data": {
            "text/plain": [
              "52169022.79024799"
            ]
          },
          "metadata": {
            "tags": []
          },
          "execution_count": 121
        }
      ]
    },
    {
      "cell_type": "code",
      "metadata": {
        "colab": {
          "base_uri": "https://localhost:8080/"
        },
        "id": "ewCThi5HJQtK",
        "outputId": "b129dd63-17ee-483f-99fb-fb096d795583"
      },
      "source": [
        "from sklearn.linear_model import LinearRegression\n",
        "from sklearn.pipeline import make_pipeline\n",
        "from sklearn.preprocessing import StandardScaler\n",
        "from sklearn.ensemble import RandomForestRegressor\n",
        "from sklearn.impute import SimpleImputer\n",
        "from sklearn.metrics import mean_squared_error\n",
        "\n",
        "pipeline=make_pipeline(SimpleImputer(), RandomForestRegressor(n_estimators = 150, max_depth=20, random_state=41))\n",
        "pipeline.fit(X_train, y_train)\n",
        "\n",
        "pipeline.score(X_train, y_train)"
      ],
      "execution_count": 122,
      "outputs": [
        {
          "output_type": "execute_result",
          "data": {
            "text/plain": [
              "0.9650427970579432"
            ]
          },
          "metadata": {
            "tags": []
          },
          "execution_count": 122
        }
      ]
    },
    {
      "cell_type": "code",
      "metadata": {
        "colab": {
          "base_uri": "https://localhost:8080/"
        },
        "id": "lSwkgBzRJQtL",
        "outputId": "157bd0e0-905e-4922-d08b-b9bb4a1208ee"
      },
      "source": [
        "pipeline.score(X_val, y_val)"
      ],
      "execution_count": 123,
      "outputs": [
        {
          "output_type": "execute_result",
          "data": {
            "text/plain": [
              "0.7683953071882952"
            ]
          },
          "metadata": {
            "tags": []
          },
          "execution_count": 123
        }
      ]
    },
    {
      "cell_type": "code",
      "metadata": {
        "colab": {
          "base_uri": "https://localhost:8080/",
          "height": 51
        },
        "id": "zO5bnxdr9c80",
        "outputId": "30017fc5-3c99-4a06-f145-b869e9a9942a"
      },
      "source": [
        "y_pred = pipeline.predict(X_val)\n",
        "display(mean_absolute_error(y_val, y_pred))\n",
        "display(mean_squared_error(y_val, y_pred))"
      ],
      "execution_count": 124,
      "outputs": [
        {
          "output_type": "display_data",
          "data": {
            "text/plain": [
              "18460245.52430295"
            ]
          },
          "metadata": {
            "tags": []
          }
        },
        {
          "output_type": "display_data",
          "data": {
            "text/plain": [
              "3057441624891550.0"
            ]
          },
          "metadata": {
            "tags": []
          }
        }
      ]
    },
    {
      "cell_type": "code",
      "metadata": {
        "colab": {
          "base_uri": "https://localhost:8080/"
        },
        "id": "oyeZ6y8NqPrZ",
        "outputId": "255e4d14-50c6-44ca-d45f-a632ca0263c0"
      },
      "source": [
        "for x in X_train.columns:\n",
        "  X_train[x] = X_train[x].astype(float)\n",
        "  X_val[x] = X_val[x].astype(float)"
      ],
      "execution_count": 125,
      "outputs": [
        {
          "output_type": "stream",
          "text": [
            "/usr/local/lib/python3.7/dist-packages/ipykernel_launcher.py:2: SettingWithCopyWarning: \n",
            "A value is trying to be set on a copy of a slice from a DataFrame.\n",
            "Try using .loc[row_indexer,col_indexer] = value instead\n",
            "\n",
            "See the caveats in the documentation: https://pandas.pydata.org/pandas-docs/stable/user_guide/indexing.html#returning-a-view-versus-a-copy\n",
            "  \n",
            "/usr/local/lib/python3.7/dist-packages/ipykernel_launcher.py:3: SettingWithCopyWarning: \n",
            "A value is trying to be set on a copy of a slice from a DataFrame.\n",
            "Try using .loc[row_indexer,col_indexer] = value instead\n",
            "\n",
            "See the caveats in the documentation: https://pandas.pydata.org/pandas-docs/stable/user_guide/indexing.html#returning-a-view-versus-a-copy\n",
            "  This is separate from the ipykernel package so we can avoid doing imports until\n"
          ],
          "name": "stderr"
        }
      ]
    },
    {
      "cell_type": "code",
      "metadata": {
        "id": "PIdOW6izJQtL"
      },
      "source": [
        "import xgboost as xgb\n",
        "\n",
        "dtrain = xgb.DMatrix(X_train, y_train)"
      ],
      "execution_count": 126,
      "outputs": []
    },
    {
      "cell_type": "code",
      "metadata": {
        "id": "1DVJYEBGLREJ"
      },
      "source": [
        "params = {'objective': 'reg:squarederror'}\n",
        "bst = xgb.train(params=params, dtrain=dtrain, num_boost_round=150)\n",
        "dtest = xgb.DMatrix(X_val, label=y_val)"
      ],
      "execution_count": 127,
      "outputs": []
    },
    {
      "cell_type": "code",
      "metadata": {
        "id": "GVrprexlNni0"
      },
      "source": [
        "alpha = bst.predict(dtest)"
      ],
      "execution_count": 128,
      "outputs": []
    },
    {
      "cell_type": "code",
      "metadata": {
        "colab": {
          "base_uri": "https://localhost:8080/"
        },
        "id": "1wEMfQm8OYoR",
        "outputId": "8062f41f-72d6-4bfb-c86a-7a7e966e7f4e"
      },
      "source": [
        "r2_score(y_val, alpha)"
      ],
      "execution_count": 129,
      "outputs": [
        {
          "output_type": "execute_result",
          "data": {
            "text/plain": [
              "0.7600850826117129"
            ]
          },
          "metadata": {
            "tags": []
          },
          "execution_count": 129
        }
      ]
    },
    {
      "cell_type": "code",
      "metadata": {
        "colab": {
          "base_uri": "https://localhost:8080/"
        },
        "id": "aVk4reYl-pLu",
        "outputId": "35970402-6c41-46b2-e92a-4b0dfe6742b0"
      },
      "source": [
        "mean_absolute_error(y_val, alpha)"
      ],
      "execution_count": 130,
      "outputs": [
        {
          "output_type": "execute_result",
          "data": {
            "text/plain": [
              "18545075.687065266"
            ]
          },
          "metadata": {
            "tags": []
          },
          "execution_count": 130
        }
      ]
    },
    {
      "cell_type": "code",
      "metadata": {
        "colab": {
          "base_uri": "https://localhost:8080/"
        },
        "id": "q9FEnwQFMnIC",
        "outputId": "026456f4-619b-4136-eede-c0e576fe2419"
      },
      "source": [
        "mean_squared_error(y_val, alpha)"
      ],
      "execution_count": 131,
      "outputs": [
        {
          "output_type": "execute_result",
          "data": {
            "text/plain": [
              "3167145906891121.0"
            ]
          },
          "metadata": {
            "tags": []
          },
          "execution_count": 131
        }
      ]
    },
    {
      "cell_type": "code",
      "metadata": {
        "id": "o6SEcSnOSzfW"
      },
      "source": [
        "from xgboost import XGBRegressor\n",
        "\n",
        "model = XGBRegressor(\n",
        "    n_estimators=1000, \n",
        "    max_depth=7,       \n",
        "    learning_rate=0.3, \n",
        "    n_jobs=-1\n",
        ")\n",
        "\n",
        "eval_set = [(X_train, y_train),\n",
        "            (X_val, y_val)]\n",
        "\n",
        "model.fit(X_train, y_train,\n",
        "          eval_set=eval_set,\n",
        "          eval_metric='rmse',\n",
        "          early_stopping_rounds=70)"
      ],
      "execution_count": null,
      "outputs": []
    },
    {
      "cell_type": "code",
      "metadata": {
        "colab": {
          "base_uri": "https://localhost:8080/"
        },
        "id": "WZd3dRIMUneR",
        "outputId": "b1f3d905-5a68-4aaa-8b80-fad0ef7aac74"
      },
      "source": [
        "y_pred = model.predict(X_val)\n",
        "r2_score(y_val, y_pred)"
      ],
      "execution_count": 133,
      "outputs": [
        {
          "output_type": "execute_result",
          "data": {
            "text/plain": [
              "0.7448101971823162"
            ]
          },
          "metadata": {
            "tags": []
          },
          "execution_count": 133
        }
      ]
    },
    {
      "cell_type": "code",
      "metadata": {
        "colab": {
          "base_uri": "https://localhost:8080/",
          "height": 51
        },
        "id": "JU2TywB0BK0s",
        "outputId": "4b76b5f6-21d3-4997-82c6-70a3030eb7d4"
      },
      "source": [
        "display(mean_absolute_error(y_val, y_pred))\n",
        "display(mean_squared_error(y_val, y_pred))\n"
      ],
      "execution_count": 134,
      "outputs": [
        {
          "output_type": "display_data",
          "data": {
            "text/plain": [
              "19237787.338634748"
            ]
          },
          "metadata": {
            "tags": []
          }
        },
        {
          "output_type": "display_data",
          "data": {
            "text/plain": [
              "3368791521063784.0"
            ]
          },
          "metadata": {
            "tags": []
          }
        }
      ]
    }
  ]
}